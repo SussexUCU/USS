{
 "cells": [
  {
   "cell_type": "markdown",
   "id": "3ee40e3c-8726-426f-853c-d4f43eb3c566",
   "metadata": {},
   "source": [
    "# USS assets \n",
    "## historic growth 1992-2021 \n",
    "## forecast growth from discount rates 2011, 14, 17, 20 and 21"
   ]
  },
  {
   "cell_type": "code",
   "execution_count": 3,
   "id": "351bf540-ca9e-413e-ab3d-e7114ea15ff3",
   "metadata": {},
   "outputs": [],
   "source": [
    "import os\n",
    "import numpy as np\n",
    "import matplotlib.pyplot as plt"
   ]
  },
  {
   "cell_type": "code",
   "execution_count": 4,
   "id": "b976a5fd-8ca8-4a80-8375-1aed7b425699",
   "metadata": {},
   "outputs": [],
   "source": [
    "path_base = '../data/'\n",
    "path_assets = path_base + 'assets_returns/'\n",
    "path_cpi = path_base + 'cpi_gilts/'\n",
    "path_discount = path_base + 'discount_rates/'\n",
    "path_ons = path_base + 'ons/'\n",
    "\n",
    "BASE_YEAR=2020"
   ]
  },
  {
   "cell_type": "markdown",
   "id": "1f05d149-ef6e-4df4-a3de-7f03ee74d871",
   "metadata": {},
   "source": [
    "### Load data"
   ]
  },
  {
   "cell_type": "code",
   "execution_count": 5,
   "id": "a3dc107c-7212-4aeb-a91c-bf7bb8ca45d5",
   "metadata": {},
   "outputs": [],
   "source": [
    "# Historic CPI, from ONS\n",
    "cpi_ons = np.genfromtxt(path_ons + 'cpi_ons_derived_for_graph_ussbriefs106.csv', delimiter=',', usecols=(0,3), skip_header=1)\n",
    "\n",
    "# Historic USS assets and investment growth\n",
    "assets_nom = np.genfromtxt(path_assets + 'nominal/1992_2021_assets_nominal.csv', delimiter=',', usecols=(0,1), skip_header=1, dtype=float)\n",
    "inv_ret_nom = np.genfromtxt(path_assets + 'nominal/1987_2021_investment_returns_nominal.csv', delimiter=',', usecols=(0,1), skip_header=1, dtype=float)\n",
    "\n",
    "# Future discount rates, assume column 0 is year, column 1 is term, column 2 is discount rate\n",
    "# Should really compute from term to be derived more directly from data\n",
    "# Should really load from original data in nominal, and compute from USS projected CPI\n",
    "disc_2011_cpi = np.genfromtxt(path_discount + 'cpi/2011_DISCOUNT_RATE_cpi_basis.csv', delimiter=',', usecols=(0,2), skip_header=1)\n",
    "disc_2014_cpi = np.genfromtxt(path_discount + 'cpi/2014_DISCOUNT_RATE_cpi_basis.csv', delimiter=',', usecols=(0,2), skip_header=1)\n",
    "disc_2017a_cpi = np.genfromtxt(path_discount + 'cpi/2017_September_DISCOUNT_RATE_cpi_basis.csv', delimiter=',', usecols=(0,2), skip_header=1)\n",
    "disc_2017b_cpi = np.genfromtxt(path_discount + 'cpi/2017_November_DISCOUNT_RATE_cpi_basis.csv', delimiter=',', usecols=(0,2), skip_header=1)\n",
    "disc_2018_cpi = np.genfromtxt(path_discount + 'cpi/2018_DISCOUNT_RATE_cpi_basis.csv', delimiter=',', usecols=(0,2), skip_header=1)\n",
    "disc_2019_cpi = np.genfromtxt(path_discount + 'cpi/2019_DISCOUNT_RATE_interim_cpi_basis.csv', delimiter=',', usecols=(0,2), skip_header=1)\n",
    "disc_2020a_cpi = np.genfromtxt(path_discount + 'cpi/2020_DISCOUNT_RATE_maintain_benefits_cpi_basis.csv', delimiter=',', usecols=(0,2), skip_header=1)\n",
    "disc_2020b_cpi = np.genfromtxt(path_discount + 'cpi/2020_DISCOUNT_RATE_UUK_cuts_cpi_basis.csv', delimiter=',', usecols=(0,2), skip_header=1)\n",
    "disc_2021a_cpi = np.genfromtxt(path_discount + 'cpi/2021_DISCOUNT_RATE_USS_est_maintain_benefits_cpi_basis.csv', delimiter=',', usecols=(0,2), skip_header=1)\n",
    "disc_2021b_cpi = np.genfromtxt(path_discount + 'cpi/2021_DISCOUNT_RATE_USS_est_UUK_cuts_cpi_basis.csv', delimiter=',', usecols=(0,2), skip_header=1)\n",
    "\n",
    "# Put discount rates in a python doctionary for easy access\n",
    "disc_cpi_dict = { \"2011\" : disc_2011_cpi,\n",
    "                \"2014\" : disc_2014_cpi,\n",
    "                \"2017a\" : disc_2017a_cpi,\n",
    "                \"2017b\" : disc_2017b_cpi,\n",
    "                \"2018\" : disc_2018_cpi,\n",
    "                \"2019\" : disc_2019_cpi,\n",
    "                \"2020a\" : disc_2020a_cpi,\n",
    "                \"2020b\" : disc_2020b_cpi,\n",
    "                \"2021a\" : disc_2021a_cpi,\n",
    "                \"2021b\" : disc_2021b_cpi}\n"
   ]
  },
  {
   "cell_type": "markdown",
   "id": "461ce9ed-6176-4124-876c-244bf83d5a2e",
   "metadata": {},
   "source": [
    "### General helper functions"
   ]
  },
  {
   "cell_type": "code",
   "execution_count": 6,
   "id": "2b227036-b2ce-4c2e-abd4-19735d53d663",
   "metadata": {
    "tags": []
   },
   "outputs": [],
   "source": [
    "def log_interp(z, x, y):\n",
    "    # Log interpolator - useful for asset values, or other quantities which grow exponentially\n",
    "    logy = np.log10(y)\n",
    "    return np.power(10.0, np.interp(z, x, logy, left=np.nan, right=np.nan))"
   ]
  },
  {
   "cell_type": "markdown",
   "id": "7502efb1-9007-43c6-b326-376e7a6b010e",
   "metadata": {},
   "source": [
    "### CPI helper functions"
   ]
  },
  {
   "cell_type": "code",
   "execution_count": 7,
   "id": "5e55c656-e9d7-43eb-869e-61c897f1415f",
   "metadata": {
    "tags": []
   },
   "outputs": [],
   "source": [
    "def cum_cpi_ons(base_yr=BASE_YEAR):\n",
    "    \"\"\"\n",
    "    Calculates cumulative CPI index from ONS data, relative to a base year, \n",
    "    which defaults to the value specified above in BASE_YEAR\n",
    "    \n",
    "    Returns an array of two columns, year and value.\n",
    "    \"\"\"\n",
    "    base_yr_ind = np.where(cpi_ons[:, 0] == base_yr)[0][0]\n",
    "    cum_cpi = cpi_ons.copy()\n",
    "    cum_cpi[base_yr_ind,1] = 1.0\n",
    "    cum_cpi[base_yr_ind+1:, 1] = np.cumprod(1 + cpi_ons[base_yr_ind:-1, 1])\n",
    "    cum_cpi[base_yr_ind-1::-1, 1] = np.cumprod(1/(1 + cpi_ons[base_yr_ind:0:-1, 1]))\n",
    "\n",
    "    return cum_cpi\n",
    "\n",
    "def get_cpi_ons(y):\n",
    "    \"\"\"\n",
    "    Returns ONS CPI in year y, by linear interpolation.\n",
    "    y can be single number, array, or range.\n",
    "    \n",
    "    Returns values with the same shape as y. \n",
    "    Years outside the ONS data return a nan.\n",
    "    \"\"\"\n",
    "    return np.interp(y, cpi_ons[:,0], cpi_ons[:,1], left=np.nan, right=np.nan)\n",
    "\n",
    "def get_cum_cpi_ons(y, base_year=BASE_YEAR):\n",
    "    \"\"\"\n",
    "    Gets ONS cumulative CPI in year y relative to base_year. Fractions of year by geometric interpolation,. \n",
    "    y can be single number, array, or range.\n",
    "    \n",
    "    Returns values with the same shape as y. \n",
    "    Years outside the ONS data return a nan.\n",
    "    \"\"\"\n",
    "    cpi_adj_arr = cum_cpi_ons(base_year)\n",
    "    return log_interp(y, cpi_adj_arr[:, 0], cpi_adj_arr[:, 1])"
   ]
  },
  {
   "cell_type": "markdown",
   "id": "5713ad58-69d1-4459-865c-f00f0077d1c9",
   "metadata": {
    "tags": []
   },
   "source": [
    "## Discount rate helper functions"
   ]
  },
  {
   "cell_type": "code",
   "execution_count": 8,
   "id": "83b80a17-2b47-4a08-993d-080b5398929d",
   "metadata": {
    "tags": []
   },
   "outputs": [],
   "source": [
    "def cum_disc_uss_cpi(valuation):\n",
    "    \"\"\"\n",
    "    Calculates cumulative discounts forward from a given valuation date, \n",
    "    using USS data.\n",
    "    Allowed values for valuation = \"2011\", \"2014\", \"2017a\", \"2017b\" \n",
    "    \"2018\", \"2019\", \"2020a\", \"2020b\", \"2021a\", \"2021b\") to be implemented\n",
    "        \n",
    "    Returns an array of two columns, year and value.\n",
    "    \"\"\"\n",
    "    disc = disc_cpi_dict[valuation]\n",
    "    cum_disc = disc.copy()\n",
    "    cum_disc[:, 1] = np.cumprod(1/(1 + disc[:, 1]))\n",
    "    return cum_disc\n",
    "\n",
    "def get_cum_disc_uss_cpi(y, valuation):\n",
    "    \"\"\"\n",
    "    Get USS cumulative discounts in year y, by geometric interpolation, relative to year of valuation.\n",
    "    y can be single number, array, or range.\n",
    "    \n",
    "    Returns values with the same shape as y. \n",
    "    Years outside the ONS data return a nan.\n",
    "    \"\"\"\n",
    "    disc_arr = cum_disc_uss_cpi(valuation)\n",
    "    return log_interp(y, disc_arr[:, 0], disc_arr[:, 1])\n"
   ]
  },
  {
   "cell_type": "markdown",
   "id": "a7c264a1-fbc2-4284-81f8-8666800370ff",
   "metadata": {},
   "source": [
    "## Assets and investment return helper functions"
   ]
  },
  {
   "cell_type": "code",
   "execution_count": 9,
   "id": "91f8eb1a-ea19-47ad-a6d8-dcb15c78b0b2",
   "metadata": {
    "tags": []
   },
   "outputs": [],
   "source": [
    "# Transform investment returns from nominal to CPI\n",
    "inv_ret_cpi = inv_ret_nom.copy()\n",
    "inv_ret_cpi[:,1] = inv_ret_nom[:, 1] - get_cpi_ons(inv_ret_nom[:, 0])\n",
    "\n",
    "def cum_inv_ret_cpi(base_yr=BASE_YEAR):\n",
    "    \"\"\"\n",
    "    Calculate cumulative investment returns, from CPI-adjusted  \n",
    "    nominal investment returns.\n",
    "    \n",
    "    Returns an array of two columns, year and value.\n",
    "    \"\"\"\n",
    "    base_yr_ind = np.where(inv_ret_cpi[:, 0] == base_yr)[0][0]\n",
    "    cum_inv_ret_cpi = inv_ret_cpi.copy()\n",
    "    cum_inv_ret_cpi[base_yr_ind,1] = 1.0\n",
    "    cum_inv_ret_cpi[base_yr_ind+1:, 1] = np.cumprod(1 + inv_ret_cpi[base_yr_ind+1:, 1])\n",
    "    cum_inv_ret_cpi[base_yr_ind-1::-1, 1] = np.cumprod(1/(1 + inv_ret_cpi[base_yr_ind:0:-1, 1]))\n",
    "\n",
    "    return cum_inv_ret_cpi\n",
    "\n",
    "def get_cum_inv_ret_cpi(y, base_yr=BASE_YEAR):\n",
    "    \"\"\"\n",
    "    Get cumulatuve investment returns for any set of years y, with linear interpolation \n",
    "    for fractional years.\n",
    "    \n",
    "    Returns values with the same shape as y. \n",
    "    Years outside the ONS CPI data return a nan.\n",
    "    \"\"\"\n",
    "    cum_inv_ret_arr = cum_inv_ret_cpi(base_yr)\n",
    "    return log_interp(y, cum_inv_ret_arr[:, 0], cum_inv_ret_arr[:, 1])\n",
    "\n",
    "def get_assets_cpi_reported(y, base_year=BASE_YEAR):\n",
    "    \"\"\"\n",
    "    Get value of assets reported in USS annual statements for set of years y.\n",
    "    \n",
    "    Returns a two-column array of years y and values.\n",
    "    \"\"\"\n",
    "    if hasattr(y, '__iter__'):\n",
    "        len_y = len(y)\n",
    "    else:\n",
    "        len_y = 1\n",
    "    assets_cpi = np.ones((len_y, 2))\n",
    "    assets_cpi[:,0] = y\n",
    "    assets_cpi[:,1] = np.interp(y, assets_nom[:, 0], assets_nom[:, 1]) / get_cum_cpi_ons(y, base_year)    \n",
    "    return assets_cpi\n",
    "\n",
    "def get_assets_cpi_inv_ret(y, base_year=BASE_YEAR):\n",
    "    \"\"\"\n",
    "    Get value of assets calculated from investment returns in USS annual statements, \n",
    "    for set of years y.\n",
    "    \n",
    "    Returns a two-column array of years y and values\n",
    "    \"\"\"\n",
    "    if hasattr(y, '__iter__'):\n",
    "        len_y = len(y)\n",
    "    else:\n",
    "        len_y = 1\n",
    "    assets_base = get_assets_cpi_reported(base_year)[0][1]\n",
    "    assets_cpi = np.ones((len_y, 2))\n",
    "    assets_cpi[:,0] = y\n",
    "    assets_cpi[:,1] = assets_base * get_cum_inv_ret_cpi(y, base_year)\n",
    "    return assets_cpi\n"
   ]
  },
  {
   "cell_type": "code",
   "execution_count": 12,
   "id": "b6f66052-bd01-48a0-80d0-df5afa000d9c",
   "metadata": {},
   "outputs": [],
   "source": [
    "# Construct estimates of investment assets\n",
    "assets_cpi_2020 = get_assets_cpi_reported(assets_nom[:,0])\n",
    "assets_cpi_inv_ret_2020 = get_assets_cpi_inv_ret(assets_nom[:,0])"
   ]
  },
  {
   "cell_type": "code",
   "execution_count": 13,
   "id": "75382ec0-6215-4bb3-a1ac-a0307ec4341e",
   "metadata": {},
   "outputs": [],
   "source": [
    "# Assemble dictionary of projected assets estimated from USS prudent discount rates\n",
    "end_year = 2068\n",
    "proj_assets_cpi_2020 = {}\n",
    "\n",
    "proj_assets_cpi_2020[\"2011\"] = get_assets_cpi_reported(2011)[0,1]/get_cum_disc_uss_cpi(range(2012, end_year), \"2011\")\n",
    "proj_assets_cpi_2020[\"2014\"] = get_assets_cpi_reported(2014)[0,1]/get_cum_disc_uss_cpi(range(2015, end_year), \"2014\")\n",
    "proj_assets_cpi_2020[\"2017b\"] = get_assets_cpi_reported(2017)[0,1]/get_cum_disc_uss_cpi(range(2018, end_year), \"2017b\")\n",
    "proj_assets_cpi_2020[\"2018\"] = get_assets_cpi_reported(2018)[0,1]/get_cum_disc_uss_cpi(range(2019, end_year), \"2018\")\n",
    "proj_assets_cpi_2020[\"2020a\"] = get_assets_cpi_reported(2020)[0,1]/get_cum_disc_uss_cpi(range(2021, end_year), \"2020a\")\n",
    "proj_assets_cpi_2020[\"2021a\"] = get_assets_cpi_reported(2021)[0,1]/get_cum_disc_uss_cpi(range(2022, end_year), \"2021a\")\n"
   ]
  },
  {
   "cell_type": "markdown",
   "id": "4cbc713c-1f69-443f-a576-958192cdb2d6",
   "metadata": {},
   "source": [
    "### Plotting"
   ]
  },
  {
   "cell_type": "code",
   "execution_count": 15,
   "id": "438322d8-9cca-4eaf-bb93-eaf060d78624",
   "metadata": {},
   "outputs": [
    {
     "data": {
      "image/png": "[encoded data removed]",
      "text/plain": [
       "<Figure size 720x360 with 1 Axes>"
      ]
     },
     "metadata": {
      "needs_background": "light"
     },
     "output_type": "display_data"
    }
   ],
   "source": [
    "plt.figure(figsize=(10,5))\n",
    "\n",
    "plt.plot(assets_cpi_2020[:,0], assets_cpi_2020[:,1], \n",
    "         color=(0.5,0.5,0.5), \n",
    "         label='Reported, ONS CPI adj. to 2020')\n",
    "\n",
    "plt.plot(assets_cpi_inv_ret_2020[:,0], assets_cpi_inv_ret_2020[:,1], \n",
    "         color='k', \n",
    "         label='From returns, ONS CPI adj. to 2020')\n",
    "\n",
    "plt.plot(range(2012, end_year), proj_assets_cpi_2020[\"2011\"], \n",
    "         color='b', ls='--', alpha=0.2, label='Forecast, 2011 prudent DR')\n",
    "plt.plot(range(2015, end_year), proj_assets_cpi_2020[\"2014\"], \n",
    "         color='b', ls='--', alpha=0.3, label='Forecast, 2014 prudent DR')\n",
    "plt.plot(range(2018, end_year), proj_assets_cpi_2020[\"2017b\"], \n",
    "         color='b', ls='--', alpha=0.4, label='Forecast, 2017b prudent DR')\n",
    "plt.plot(range(2019, end_year), proj_assets_cpi_2020[\"2018\"], \n",
    "         color='b', ls='--', alpha=0.5, label='Forecast, 2018 prudent DR')\n",
    "plt.plot(range(2021, end_year), proj_assets_cpi_2020[\"2020a\"], \n",
    "         color='b', ls='--', alpha=0.6, label='Forecast, 2020 prudent DR')\n",
    "plt.plot(range(2022, end_year), proj_assets_cpi_2020[\"2021a\"], \n",
    "         color='b', ls='--', alpha=0.7, label='Forecast, 2021 prudent DR')\n",
    "\n",
    "plt.xlim(1990,2070)\n",
    "plt.ylim(0,140)\n",
    "\n",
    "plt.title('USS assets: historic and \"prudent\" forecasts')\n",
    "plt.xlabel('Year')\n",
    "plt.ylabel('Value BGBP')\n",
    "\n",
    "plt.grid()\n",
    "plt.legend(bbox_to_anchor=(1.0, 0.0, .1, 1))\n",
    "\n",
    "plt.tight_layout()\n",
    "plt.savefig(\"uss_assets_and_prudent_forecasts.pdf\")"
   ]
  },
  {
   "cell_type": "code",
   "execution_count": null,
   "id": "743528eb-7f0b-40c5-9aa6-7ecfc4871b2e",
   "metadata": {},
   "outputs": [],
   "source": []
  }
 ],
 "metadata": {
  "kernelspec": {
   "display_name": "Python 3 (ipykernel)",
   "language": "python",
   "name": "python3"
  },
  "language_info": {
   "codemirror_mode": {
    "name": "ipython",
    "version": 3
   },
   "file_extension": ".py",
   "mimetype": "text/x-python",
   "name": "python",
   "nbconvert_exporter": "python",
   "pygments_lexer": "ipython3",
   "version": "3.7.10"
  }
 },
 "nbformat": 4,
 "nbformat_minor": 5
}
